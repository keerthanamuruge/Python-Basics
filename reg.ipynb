{
 "cells": [
  {
   "cell_type": "code",
   "execution_count": 55,
   "metadata": {},
   "outputs": [],
   "source": [
    "import re\n",
    "name = [\"World\", \"Hello    world Hello\", \"World   54\", \"hello hi 47\"]\n"
   ]
  },
  {
   "cell_type": "code",
   "execution_count": 50,
   "metadata": {},
   "outputs": [
    {
     "name": "stdout",
     "output_type": "stream",
     "text": [
      "World   54\n"
     ]
    }
   ],
   "source": [
    "for i in name:\n",
    "    result = re.search('^\\w+\\s+\\w+$', i)\n",
    "    if result:\n",
    "        print(i)"
   ]
  },
  {
   "cell_type": "markdown",
   "metadata": {},
   "source": [
    "### position"
   ]
  },
  {
   "cell_type": "markdown",
   "metadata": {},
   "source": [
    "### Position\n",
    "Where (^, $)  is mention position.\n",
    "\n",
    "\\^ -> startwith\n",
    "\n",
    "\\$ -> endwith"
   ]
  },
  {
   "cell_type": "markdown",
   "metadata": {},
   "source": [
    "\\d -> int\n",
    "\n",
    "\\d\\d -> 2 consecutive int\n",
    "\n",
    "\\s -> space\n",
    "\n",
    "\\w -> a-zA-z"
   ]
  },
  {
   "cell_type": "markdown",
   "metadata": {},
   "source": [
    " ### quantifiers\n",
    " \n",
    " \\+ -> 1 to many\n",
    "\n",
    " \\* -> 0 to many\n",
    "\n",
    " {9} -> only 9 elements\n",
    " "
   ]
  },
  {
   "cell_type": "code",
   "execution_count": 9,
   "metadata": {},
   "outputs": [
    {
     "name": "stdout",
     "output_type": "stream",
     "text": [
      "World\n"
     ]
    }
   ],
   "source": [
    "for i in name:\n",
    "    result = re.search('^\\w+$', i)\n",
    "    if result:\n",
    "        print(i)"
   ]
  },
  {
   "cell_type": "code",
   "execution_count": 17,
   "metadata": {},
   "outputs": [
    {
     "name": "stdout",
     "output_type": "stream",
     "text": [
      "Hello world Hello\n"
     ]
    }
   ],
   "source": [
    "for i in name:\n",
    "    result = re.search('o$', i)\n",
    "    if result:\n",
    "        print(i)\n",
    "        "
   ]
  },
  {
   "cell_type": "code",
   "execution_count": 19,
   "metadata": {},
   "outputs": [
    {
     "name": "stdout",
     "output_type": "stream",
     "text": [
      "54 World\n"
     ]
    }
   ],
   "source": [
    "for i in name:\n",
    "    result = re.search('\\d', i)\n",
    "    if result:\n",
    "        print(i)"
   ]
  },
  {
   "cell_type": "code",
   "execution_count": 78,
   "metadata": {},
   "outputs": [
    {
     "name": "stdout",
     "output_type": "stream",
     "text": [
      "World   \n",
      "54\n",
      "hello hi \n",
      "47\n"
     ]
    }
   ],
   "source": [
    "for i in name:\n",
    "    result = re.search('([a-zA-z\\s]+)(\\d+)$', i)\n",
    "    if result:\n",
    "        print(result.group(1))\n",
    "        print(result.group(2))"
   ]
  },
  {
   "cell_type": "code",
   "execution_count": 79,
   "metadata": {},
   "outputs": [
    {
     "data": {
      "text/plain": [
       "<re.Match object; span=(0, 15), match='BANANA FRIES 12'>"
      ]
     },
     "execution_count": 79,
     "metadata": {},
     "output_type": "execute_result"
    }
   ],
   "source": [
    "\n",
    "re.search('([a-zA-z\\s]+)(\\d+)$', \"BANANA FRIES 12\")"
   ]
  }
 ],
 "metadata": {
  "kernelspec": {
   "display_name": "env",
   "language": "python",
   "name": "python3"
  },
  "language_info": {
   "codemirror_mode": {
    "name": "ipython",
    "version": 3
   },
   "file_extension": ".py",
   "mimetype": "text/x-python",
   "name": "python",
   "nbconvert_exporter": "python",
   "pygments_lexer": "ipython3",
   "version": "3.10.12"
  },
  "orig_nbformat": 4
 },
 "nbformat": 4,
 "nbformat_minor": 2
}
